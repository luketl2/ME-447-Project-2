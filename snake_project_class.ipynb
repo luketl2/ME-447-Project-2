{
 "cells": [
  {
   "cell_type": "code",
   "execution_count": 2,
   "metadata": {},
   "outputs": [],
   "source": [
    "import numpy as np\n",
    "from matplotlib import pyplot as plt"
   ]
  },
  {
   "cell_type": "markdown",
   "metadata": {},
   "source": [
    "For the cosserat rod equations, there are two kinematic equations (one related to translations and another related to rotations) and two dynamic equations (again, one related to translations and another related to rotations). So we tackle this problem in increasing levels of complexity via these milestones:\n",
    "\n",
    "1) first tackle translations (which are easier to implement) by testing the equations on an elastic beam that is fixed on one end and has a small axial force on the one end. Because the beam is elastic, and the axial force is small, the entire beam behaves like a spring. We can then plot look at how much the beam stretches, which should correspond with analytical spring equations. This is milestone 1."
   ]
  },
  {
   "cell_type": "code",
   "execution_count": 3,
   "metadata": {},
   "outputs": [
    {
     "name": "stdout",
     "output_type": "stream",
     "text": [
      "[[0. 0. 0. 0. 0. 0. 0. 0. 0. 0. 0. 0. 0. 0. 0. 0. 0. 0. 0. 0.]\n",
      " [0. 0. 0. 0. 0. 0. 0. 0. 0. 0. 0. 0. 0. 0. 0. 0. 0. 0. 0. 0.]\n",
      " [0. 0. 0. 0. 0. 0. 0. 0. 0. 0. 0. 0. 0. 0. 0. 0. 0. 0. 0. 0.]]\n"
     ]
    },
    {
     "name": "stderr",
     "output_type": "stream",
     "text": [
      "/tmp/ipykernel_1645/2192802790.py:34: RuntimeWarning: invalid value encountered in true_divide\n",
      "  tangents = lengths_bold / lengths_norm\n"
     ]
    }
   ],
   "source": [
    "# My simple cosserat rod\n",
    "\n",
    "n_elements = 20\n",
    "\n",
    "\n",
    "\"\"\"\n",
    "nodal quantities\n",
    "\"\"\"\n",
    "n_nodes = n_elements + 1\n",
    "forces = np.zeros((3, n_nodes))\n",
    "velocities = np.zeros((3, n_nodes))\n",
    "\n",
    "needs_to_be_initialized = []\n",
    "\n",
    "masses = np.zeros((1, n_nodes)) # needs to be initialized\n",
    "needs_to_be_initialized.append(\"masses\")\n",
    "positions = np.ones((3, n_nodes)) # needs to be initialized\n",
    "needs_to_be_initialized.append(\"positions\")\n",
    "\n",
    "\"\"\"\n",
    "element quantities\n",
    "\"\"\"\n",
    "lengths_bold = positions[:, 1:] - positions[:, :-1]\n",
    "print(lengths_bold)\n",
    "lengths_norm = np.linalg.norm(lengths_bold, \n",
    "                              axis=0, \n",
    "                              keepdims=True)\n",
    "\n",
    "# reference_lengths_bold = lengths_bold.copy() \n",
    "reference_lengths_bold =  np.ones((3, n_elements))\n",
    "reference_lengths_norm = np.linalg.norm(reference_lengths_bold, \n",
    "                                        axis=0, \n",
    "                                        keepdims=True)\n",
    "tangents = lengths_bold / lengths_norm\n",
    "dilatations = lengths_norm / reference_lengths_norm\n",
    "\n",
    "# \n",
    "# directors = [np.eye(3) for _ in range(n_elements)]\n",
    "# directors = np.array([np.eye(3) for _ in range(n_elements)])\n",
    "# \n",
    "directors = np.zeros((3, 3, n_elements))\n",
    "for idx in range(n_elements):\n",
    "    directors[:, :, idx] = np.eye(3)\n",
    "needs_to_be_initialized.append(\"directors\")\n",
    "    \n",
    "radius = np.ones((1, n_elements)) \n",
    "needs_to_be_initialized.append(\"radius\")\n",
    "\n",
    "areas = np.pi * (radius**2)\n",
    "# Oracle gave it to us\n",
    "G = 20\n",
    "E = 40\n",
    "shear_stiffness_matrix = np.zeros((3, 3, n_elements))\n",
    "alpha_c = 4.0 / 3.0\n",
    "shear_stiffness_matrix[0, 0, :] = alpha_c * G * areas\n",
    "shear_stiffness_matrix[1, 1, :] = alpha_c * G * areas\n",
    "shear_stiffness_matrix[2, 2, :] = E * areas\n",
    "\n",
    "needs_to_be_initialized.append(\"shear_stiffness_matrix\")\n",
    "\n",
    "# sigma\n",
    "shear_stretch_strains = dilatations * tangents - directors[2, :, :]"
   ]
  },
  {
   "cell_type": "code",
   "execution_count": 26,
   "metadata": {},
   "outputs": [
    {
     "data": {
      "text/plain": [
       "['masses', 'positions', 'directors', 'radius', 'shear_stiffness_matrix']"
      ]
     },
     "execution_count": 26,
     "metadata": {},
     "output_type": "execute_result"
    }
   ],
   "source": [
    "needs_to_be_initialized"
   ]
  },
  {
   "cell_type": "code",
   "execution_count": 30,
   "metadata": {},
   "outputs": [],
   "source": [
    "# Modified trapezoidal integration\n",
    "def modified_diff(t_x):\n",
    "    \"\"\" Modified trapezoidal integration\"\"\"\n",
    "    # Pads a 0 at the end of an array\n",
    "    temp = np.pad(t_x, (0,1), \n",
    "                  'constant', \n",
    "                  constant_values=(0,0)) # Using roll calculate the diff (ghost node of 0)\n",
    "    return (temp - np.roll(temp, 1))"
   ]
  },
  {
   "cell_type": "code",
   "execution_count": null,
   "metadata": {},
   "outputs": [],
   "source": [
    "shear_stretch_strains = dilatations * tangents - directors[2, :, :]\n",
    "\n",
    "# dv_dt\n",
    "(modified_diff(shear_stiffness_matrix @ shear_stretch_strains \n",
    "               / dilatations) + forces) / masses "
   ]
  },
  {
   "cell_type": "code",
   "execution_count": null,
   "metadata": {},
   "outputs": [],
   "source": [
    "# (3, n_nodes)\n",
    "# x x x x x .... \n",
    "# y y y y y ....\n",
    "# z z z z z ....\n",
    "\n",
    "# x x x x x .... x y y y y y .... y z z z z z ....z \n",
    "\n",
    "\n",
    "# (n_nodes, 3)\n",
    "# x y z\n",
    "# x y z\n",
    "# ...\n",
    "# x y z\n",
    "# x y z x y z x yz ........\n"
   ]
  },
  {
   "cell_type": "code",
   "execution_count": 11,
   "metadata": {},
   "outputs": [
    {
     "name": "stdout",
     "output_type": "stream",
     "text": [
      "Variable                  Type        Data/Info\n",
      "-----------------------------------------------\n",
      "black_reformat            function    <function black_reformat at 0x103062310>\n",
      "dilatations               ndarray     20: 20 elems, type `float64`, 160 bytes\n",
      "directors                 ndarray     3x3x20: 180 elems, type `float64`, 1440 bytes\n",
      "forces                    ndarray     3x21: 63 elems, type `float64`, 504 bytes\n",
      "idx                       int         19\n",
      "json                      module      <module 'json' from '/usr<...>hon3.9/json/__init__.py'>\n",
      "lengths_bold              ndarray     3x20: 60 elems, type `float64`, 480 bytes\n",
      "lengths_norm              ndarray     20: 20 elems, type `float64`, 160 bytes\n",
      "masses                    ndarray     1x21: 21 elems, type `float64`, 168 bytes\n",
      "n_elements                int         20\n",
      "n_nodes                   int         21\n",
      "needs_to_be_initialized   list        n=4\n",
      "np                        module      <module 'numpy' from '/us<...>kages/numpy/__init__.py'>\n",
      "plt                       module      <module 'matplotlib.pyplo<...>es/matplotlib/pyplot.py'>\n",
      "positions                 ndarray     3x21: 63 elems, type `float64`, 504 bytes\n",
      "radius                    ndarray     1x20: 20 elems, type `float64`, 160 bytes\n",
      "reference_lengths_bold    ndarray     3x20: 60 elems, type `float64`, 480 bytes\n",
      "reference_lengths_norm    ndarray     20: 20 elems, type `float64`, 160 bytes\n",
      "tangents                  ndarray     3x20: 60 elems, type `float64`, 480 bytes\n",
      "velocities                ndarray     3x21: 63 elems, type `float64`, 504 bytes\n"
     ]
    }
   ],
   "source": [
    "def position_verlet(dt, x, v, a):\n",
    "    \"\"\"Does one iteration/timestep using the Position verlet scheme\n",
    "    \n",
    "    Parameters\n",
    "    ----------\n",
    "    dt : float\n",
    "        Simulation timestep in seconds\n",
    "    x : float/array-like\n",
    "        Quantity of interest / position of COM\n",
    "    v : float/array-like\n",
    "        Quantity of interest / velocity of COM\n",
    "    force_rule : ufunc\n",
    "        A function, f, that takes one argument and\n",
    "        returns the instantaneous forcing\n",
    "\n",
    "    Returns\n",
    "    -------\n",
    "    x_n : float/array-like\n",
    "        The quantity of interest at the Next time step\n",
    "    v_n : float/array-like\n",
    "        The quantity of interest at the Next time step\n",
    "    \"\"\"\n",
    "    temp_x = x + 0.5*dt*v\n",
    "    v_n = v + dt * force_rule(temp_x)\n",
    "    x_n = temp_x + 0.5 * dt * v_n\n",
    "    return x_n, v_n\n",
    "\n",
    "a.timestep_using(position_verlet)"
   ]
  },
  {
   "cell_type": "code",
   "execution_count": null,
   "metadata": {},
   "outputs": [],
   "source": []
  }
 ],
 "metadata": {
  "interpreter": {
   "hash": "916dbcbb3f70747c44a77c7bcd40155683ae19c65e1c03b4aa3499c5328201f1"
  },
  "kernelspec": {
   "display_name": "Python 3.8.5 64-bit",
   "name": "python3"
  },
  "language_info": {
   "codemirror_mode": {
    "name": "ipython",
    "version": 3
   },
   "file_extension": ".py",
   "mimetype": "text/x-python",
   "name": "python",
   "nbconvert_exporter": "python",
   "pygments_lexer": "ipython3",
   "version": "3.8.5"
  }
 },
 "nbformat": 4,
 "nbformat_minor": 4
}
