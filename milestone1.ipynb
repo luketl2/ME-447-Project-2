{
 "cells": [
  {
   "cell_type": "markdown",
   "metadata": {},
   "source": [
    "The goal is to implement a soft snake (solved using Cosserat rod equations) slithering along a flat plane (which supports locomotion via normal and frictional forces). Towards this you first need to implement Cosserat rod equations (based on what we have covered in class so far) and then model the plane forces. Let me discuss them one by one.\n",
    "\n",
    "For the cosserat rod equations, there are two kinematic equations (one related to translations and another related to rotations) and two dynamic equations (again, one related to translations and another related to rotations). So we tackle this problem in increasing levels of complexity via these milestones:\n",
    "1) first tackle translations (which are easier to implement) by testing the equations on an elastic beam that is fixed on one end and has a small axial force on the one end. Because the beam is elastic, and the axial force is small, the entire beam behaves like a spring. We can then plot look at how much the beam stretches, which should correspond with analytical spring equations. This is milestone 1."
   ]
  },
  {
   "cell_type": "code",
   "execution_count": 30,
   "metadata": {},
   "outputs": [
    {
     "name": "stderr",
     "output_type": "stream",
     "text": [
      "/tmp/ipykernel_1043/1319745148.py:21: RuntimeWarning: invalid value encountered in true_divide\n",
      "  tangents = lengths_bold / lengths_norm\n"
     ]
    }
   ],
   "source": [
    "import numpy as np\n",
    "# My simple cosserat rod based on section 3.2 Spatial Discretization\n",
    "\n",
    "n_elements = 20\n",
    "n_nodes = n_elements+1\n",
    "needs_to_be_initialized = []\n",
    "# nodal quantities, describes attributes for points that connect two rods\n",
    "masses = np.zeros((1,n_nodes))\n",
    "positions = np.ones((3, n_nodes))\n",
    "needs_to_be_initialized.append(\"masses\")\n",
    "needs_to_be_initialized.append(\"positions\")\n",
    "# Initial vel and forces are zero\n",
    "velocities = np.zeros((3, n_nodes))\n",
    "forces = np.zeros((3, n_nodes))\n",
    "\n",
    "# element quantities, describe attributes for rods\n",
    "lengths_bold = positions[:,1:] - positions[:,0:-1]\n",
    "lengths_norm = np.linalg.norm(lengths_bold, axis=0, keepdims=True)\n",
    "reference_lengths_bold = np.ones((3,n_elements))\n",
    "reference_lengths_norm = np.linalg.norm(reference_lengths_bold, axis=0, keepdims=True)\n",
    "tangents = lengths_bold / lengths_norm\n",
    "dilations = lengths_norm / reference_lengths_norm\n",
    "# Q\n",
    "directors = np.zeros((3,3,n_elements))\n",
    "for i in range(n_elements):\n",
    "    directors[:,:,i] = np.eye(3) \n",
    "needs_to_be_initialized.append(\"directors\")\n",
    "radius = np.ones((1,n_elements))\n",
    "needs_to_be_initialized.append(\"radius\")\n",
    "areas = np.pi * np.square(radius)\n",
    "# Oracle gave it to us\n",
    "G = 20\n",
    "E = 40\n",
    "shear_stiffness_matrix = np.zeros((3,3,n_elements))\n",
    "alpha_c = 4.0 / 3.0\n",
    "shear_stiffness_matrix[0,0,:] = alpha_c * G * areas\n",
    "shear_stiffness_matrix[1,1,:] = alpha_c * G * areas\n",
    "shear_stiffness_matrix[2,2,:] = E * areas\n",
    "needs_to_be_initialized.append(\"shear_stiffness_matrix\")\n",
    "#sigma\n",
    "shear_stretch_strains = dilations * tangents - directors[2,:]\n"
   ]
  },
  {
   "cell_type": "code",
   "execution_count": 34,
   "metadata": {},
   "outputs": [
    {
     "data": {
      "text/plain": [
       "(3, 20)"
      ]
     },
     "execution_count": 34,
     "metadata": {},
     "output_type": "execute_result"
    }
   ],
   "source": [
    "shear_stretch_strains.shape"
   ]
  },
  {
   "cell_type": "markdown",
   "metadata": {},
   "source": []
  }
 ],
 "metadata": {
  "interpreter": {
   "hash": "916dbcbb3f70747c44a77c7bcd40155683ae19c65e1c03b4aa3499c5328201f1"
  },
  "kernelspec": {
   "display_name": "Python 3",
   "language": "python",
   "name": "python3"
  },
  "language_info": {
   "codemirror_mode": {
    "name": "ipython",
    "version": 3
   },
   "file_extension": ".py",
   "mimetype": "text/x-python",
   "name": "python",
   "nbconvert_exporter": "python",
   "pygments_lexer": "ipython3",
   "version": "3.8.8"
  }
 },
 "nbformat": 4,
 "nbformat_minor": 2
}
