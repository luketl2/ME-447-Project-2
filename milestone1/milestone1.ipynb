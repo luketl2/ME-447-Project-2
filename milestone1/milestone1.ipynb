{
 "cells": [
  {
   "cell_type": "markdown",
   "metadata": {},
   "source": [
    "The goal is to implement a soft snake (solved using Cosserat rod equations) slithering along a flat plane (which supports locomotion via normal and frictional forces). Towards this you first need to implement Cosserat rod equations (based on what we have covered in class so far) and then model the plane forces. Let me discuss them one by one.\n",
    "\n",
    "For the cosserat rod equations, there are two kinematic equations (one related to translations and another related to rotations) and two dynamic equations (again, one related to translations and another related to rotations). So we tackle this problem in increasing levels of complexity via these milestones:\n",
    "1) first tackle translations (which are easier to implement) by testing the equations on an elastic beam that is fixed on one end and has a small axial force on the one end. Because the beam is elastic, and the axial force is small, the entire beam behaves like a spring. We can then plot look at how much the beam stretches, which should correspond with analytical spring equations. This is milestone 1."
   ]
  },
  {
   "cell_type": "code",
   "execution_count": 2,
   "metadata": {},
   "outputs": [],
   "source": [
    "import numpy as np\n",
    "from matplotlib import pyplot as plt\n",
    "import time\n",
    "\n",
    "# This class is not completely general: only supports uniform mass and single radius\n",
    "class cosserat_rod:\n",
    "    # initialize the rod\n",
    "    def __init__(self, n_elements: int = 100, tot_length = 3.0, rod_density = 5E3, \n",
    "                 rod_radius = 0.25, E = 1E6, G = 1E4, velocities = 0, internal_forces = 0):\n",
    "        \n",
    "        '''Set up quantities that describe the rod'''\n",
    "        self.tot_length = tot_length\n",
    "        self.G = G\n",
    "        self.E = E\n",
    "        self.n_elements = n_elements\n",
    "        self.n_nodes = self.n_elements+1\n",
    "        element_length = tot_length/n_elements\n",
    "        # straight rod\n",
    "        self.positions = np.vstack((np.zeros((2,self.n_nodes)),np.arange(0.0, tot_length+element_length, element_length)))\n",
    "        \n",
    "        self.lengths_bold = self.positions[:, 1:] - self.positions[:, :-1]\n",
    "        self.lengths_norm = np.linalg.norm(self.lengths_bold, axis=0, keepdims=True)\n",
    "        self.reference_lengths_bold = self.positions[:, 1:] - self.positions[:, :-1]\n",
    "        self.reference_lengths_norm = np.linalg.norm(self.reference_lengths_bold, axis=0, keepdims=True)\n",
    "        \n",
    "        # this shape is less efficient but easier for us to think about\n",
    "        # self.directors = np.zeros((n_elements, 3, 3)) \n",
    "        # self.directors = np.zeros((3, 3, n_elements))\n",
    "        # for idx in range(n_elements):\n",
    "        #     self.directors[:, :, idx] = np.eye(3)\n",
    "        # self.directors = np.zeros((3, 3, self.n_elements))\n",
    "        # self.directors[2] = self.lengths_bold/self.lengths_norm\n",
    "        # self.directors[1] = [[0]*self.n_elements, [1]*self.n_elements, [0]*self.n_elements]\n",
    "        # self.directors[0] = np.transpose(np.cross(self.directors[1], self.directors[2], 0, 0))\n",
    "        \n",
    "        self.rod_area = np.pi*rod_radius*rod_radius\n",
    "        self.areas = self.rod_area*np.ones(self.n_elements,)\n",
    "        \n",
    "        element_mass = rod_density*element_length*self.rod_area\n",
    "        self.masses = element_mass*np.ones(self.n_nodes,)\n",
    "        self.masses[0] *= 0.5\n",
    "        self.masses[-1] *= 0.5\n",
    "       \n",
    "        \n",
    "        '''Set up quantities that will capture motion'''\n",
    "        # This way of doing it is bad and should be fixed, will throw error if you try to input your own vals\n",
    "        self.velocities = velocities if velocities else np.zeros((3, self.n_nodes)) \n",
    "        self.internal_forces = internal_forces if internal_forces else np.zeros((3, self.n_nodes))\n",
    "        \n",
    "        self.dilatations = self.lengths_norm / self.reference_lengths_norm\n",
    "        \n",
    "        self.shear_stiffness_matrix = np.zeros((3, 3, n_elements)) # S\n",
    "        alpha_c = 4.0 / 3.0\n",
    "        self.shear_stiffness_matrix[0, 0, :] = alpha_c * self.G * self.areas # S1\n",
    "        self.shear_stiffness_matrix[1, 1, :] = alpha_c * self.G * self.areas # S2\n",
    "        self.shear_stiffness_matrix[2, 2, :] = self.E * self.areas # S2\n",
    "        \n",
    "        self.tangents = self.lengths_bold / self.lengths_norm   \n",
    "        self.shear_stretch_strains = self.dilatations * self.tangents - self.directors[:, 2, :]    \n",
    "\n",
    "            \n",
    "    def deltaH_operator(self, t_x): \n",
    "        n_pad = [(0,0)] * t_x.ndim\n",
    "        n_pad[t_x.ndim - 1] = (0,1)\n",
    "        temp = np.pad(t_x, n_pad, 'constant', constant_values=(0,0))\n",
    "        return temp - np.roll(temp, 1, t_x.ndim - 1)\n",
    "    \n",
    "    # F = ma type calculations - key is to use position at half time step to recalc internal forces, then a\n",
    "    def Newton2(self, temp_x):\n",
    "        self.lengths_bold = temp_x[:, 1:] - temp_x[:, :-1]\n",
    "        self.lengths_norm = np.linalg.norm(self.lengths_bold, axis=0, keepdims=True)\n",
    "\n",
    "        self.dilatations = self.lengths_norm / self.reference_lengths_norm\n",
    "        self.tangents = self.lengths_bold / self.lengths_norm\n",
    "        self.shear_stretch_strains = self.dilatations * self.tangents - self.directors[:, 2, :] # will need to change also in time\n",
    "        \n",
    "        self.internal_forces = np.zeros((3,self.n_elements))\n",
    "        \n",
    "        self.internal_forces = np.einsum('ijk, jk-> ik', self.shear_stiffness_matrix, self.shear_stretch_strains)/ self.dilatations\n",
    "        node_forces = self.deltaH_operator(self.internal_forces)\n",
    "        \n",
    "#         for elem in range(self.n_elements):\n",
    "#              self.internal_forces[:,elem] = self.shear_stiffness_matrix[:, :, elem] @ \\\n",
    "#              self.shear_stretch_strains[:,elem] / self.dilatations[0,elem]\n",
    "#         node_forces = self.modified_diff(self.internal_forces)\n",
    "        \n",
    "#         nu = 0.3\n",
    "#         elem_vels = (self.velocities[:,1:] + self.velocities[:,:-1])/2\n",
    "#         damping = -elem_vels*self.lengths_bold*nu\n",
    "#         damping = self.modified_diff(damping)\n",
    "        dvdt = (node_forces + self.ext_forces) / self.masses    \n",
    "        return dvdt\n",
    "\n",
    "    def position_verlet(self, dt, x, v, force_rule):\n",
    "        temp_x = x + 0.5*dt*v\n",
    "        v_n = v + dt * force_rule(temp_x)\n",
    "        self.velocities[:,0] = np.zeros(3,)\n",
    "        x_n = temp_x + 0.5 * dt * v_n\n",
    "        self.positions[:,0] = np.zeros(3,)\n",
    "        return x_n, v_n\n",
    "\n",
    "    # run the simulation, specifying external conditions ** for now it's just for first benchmark\n",
    "    def run(self, ext_forces, t_total = 100, dt = 3E-4):\n",
    "        self.ext_forces = ext_forces\n",
    "        n_iterations = int(np.ceil(t_total/dt))\n",
    "        self.position_history = np.zeros((3, self.n_nodes, n_iterations))\n",
    "        self.position_history[:, :, 0] = self.positions\n",
    "        for time_step in range(n_iterations):\n",
    "            self.positions, self.velocities = self.position_verlet(dt, self.positions, self.velocities, self.Newton2)\n",
    "            # constrain the first element to the wall\n",
    "            self.positions[:,0] = np.zeros(3,)\n",
    "            self.velocities[:,0] = np.zeros(3,)\n",
    "            self.position_history[:, :, time_step] = self.positions\n",
    "        \n",
    "        # print what disp should be\n",
    "        print()\n",
    "        print('Theoretical displacement (m): ', end = '')\n",
    "        print(ext_forces[-1,-1]*self.tot_length/(self.E*self.rod_area-ext_forces[-1,-1]))\n",
    "        print()\n",
    "        return (self.positions, self.position_history)\n"
   ]
  },
  {
   "cell_type": "code",
   "execution_count": 37,
   "metadata": {},
   "outputs": [
    {
     "name": "stdout",
     "output_type": "stream",
     "text": [
      "\n",
      "Theoretical displacement (m): 0.00022920062769050053\n",
      "\n",
      "\n",
      "Average end displacement (m): 0.00022939545287346979\n",
      "\n"
     ]
    },
    {
     "data": {
      "image/png": "[encoded data removed]",
      "text/plain": [
       "<Figure size 432x288 with 1 Axes>"
      ]
     },
     "metadata": {
      "needs_background": "light"
     },
     "output_type": "display_data"
    },
    {
     "data": {
      "image/png": "[encoded data removed]",
      "text/plain": [
       "<Figure size 432x288 with 1 Axes>"
      ]
     },
     "metadata": {
      "needs_background": "light"
     },
     "output_type": "display_data"
    }
   ],
   "source": [
    "# Milestone 1\n",
    "stretch_case = cosserat_rod(50)\n",
    "t_total = 100\n",
    "dt = 3E-4\n",
    "ext_force = np.zeros((3, stretch_case.n_nodes))\n",
    "ext_force[-1, -1] = 15\n",
    "final_pos, position_history = stretch_case.run(ext_force, t_total, dt)\n",
    "\n",
    "time_history = np.arange(0, t_total, dt)\n",
    "plt.plot(time_history, position_history[-1,0,:])\n",
    "plt.figure()\n",
    "plt.plot(time_history, position_history[-1,-1,:])\n",
    "print()\n",
    "print('Average end displacement (m): ', end = '')\n",
    "print(np.mean(position_history[-1,-1,:]-position_history[-1,-1, 0]))\n",
    "print()"
   ]
  },
  {
   "cell_type": "code",
   "execution_count": 3,
   "metadata": {},
   "outputs": [
    {
     "ename": "AttributeError",
     "evalue": "'cosserat_rod' object has no attribute 'directors'",
     "output_type": "error",
     "traceback": [
      "\u001b[0;31m---------------------------------------------------------------------------\u001b[0m",
      "\u001b[0;31mAttributeError\u001b[0m                            Traceback (most recent call last)",
      "\u001b[0;32m/tmp/ipykernel_800/528020835.py\u001b[0m in \u001b[0;36m<module>\u001b[0;34m\u001b[0m\n\u001b[0;32m----> 1\u001b[0;31m \u001b[0mstretch_case\u001b[0m \u001b[0;34m=\u001b[0m \u001b[0mcosserat_rod\u001b[0m\u001b[0;34m(\u001b[0m\u001b[0;36m2\u001b[0m\u001b[0;34m)\u001b[0m\u001b[0;34m\u001b[0m\u001b[0;34m\u001b[0m\u001b[0m\n\u001b[0m\u001b[1;32m      2\u001b[0m \u001b[0mt_total\u001b[0m \u001b[0;34m=\u001b[0m \u001b[0;36m100\u001b[0m\u001b[0;34m\u001b[0m\u001b[0;34m\u001b[0m\u001b[0m\n\u001b[1;32m      3\u001b[0m \u001b[0mdt\u001b[0m \u001b[0;34m=\u001b[0m \u001b[0;36m3E-4\u001b[0m\u001b[0;34m\u001b[0m\u001b[0;34m\u001b[0m\u001b[0m\n\u001b[1;32m      4\u001b[0m \u001b[0mext_force\u001b[0m \u001b[0;34m=\u001b[0m \u001b[0mnp\u001b[0m\u001b[0;34m.\u001b[0m\u001b[0mzeros\u001b[0m\u001b[0;34m(\u001b[0m\u001b[0;34m(\u001b[0m\u001b[0;36m3\u001b[0m\u001b[0;34m,\u001b[0m \u001b[0mstretch_case\u001b[0m\u001b[0;34m.\u001b[0m\u001b[0mn_nodes\u001b[0m\u001b[0;34m)\u001b[0m\u001b[0;34m)\u001b[0m\u001b[0;34m\u001b[0m\u001b[0;34m\u001b[0m\u001b[0m\n\u001b[1;32m      5\u001b[0m \u001b[0mext_force\u001b[0m\u001b[0;34m[\u001b[0m\u001b[0;34m-\u001b[0m\u001b[0;36m1\u001b[0m\u001b[0;34m,\u001b[0m \u001b[0;34m-\u001b[0m\u001b[0;36m1\u001b[0m\u001b[0;34m]\u001b[0m \u001b[0;34m=\u001b[0m \u001b[0;36m15\u001b[0m\u001b[0;34m\u001b[0m\u001b[0;34m\u001b[0m\u001b[0m\n",
      "\u001b[0;32m/tmp/ipykernel_800/219462185.py\u001b[0m in \u001b[0;36m__init__\u001b[0;34m(self, n_elements, tot_length, rod_density, rod_radius, E, G, velocities, internal_forces)\u001b[0m\n\u001b[1;32m     57\u001b[0m \u001b[0;34m\u001b[0m\u001b[0m\n\u001b[1;32m     58\u001b[0m         \u001b[0mself\u001b[0m\u001b[0;34m.\u001b[0m\u001b[0mtangents\u001b[0m \u001b[0;34m=\u001b[0m \u001b[0mself\u001b[0m\u001b[0;34m.\u001b[0m\u001b[0mlengths_bold\u001b[0m \u001b[0;34m/\u001b[0m \u001b[0mself\u001b[0m\u001b[0;34m.\u001b[0m\u001b[0mlengths_norm\u001b[0m\u001b[0;34m\u001b[0m\u001b[0;34m\u001b[0m\u001b[0m\n\u001b[0;32m---> 59\u001b[0;31m         \u001b[0mself\u001b[0m\u001b[0;34m.\u001b[0m\u001b[0mshear_stretch_strains\u001b[0m \u001b[0;34m=\u001b[0m \u001b[0mself\u001b[0m\u001b[0;34m.\u001b[0m\u001b[0mdilatations\u001b[0m \u001b[0;34m*\u001b[0m \u001b[0mself\u001b[0m\u001b[0;34m.\u001b[0m\u001b[0mtangents\u001b[0m \u001b[0;34m-\u001b[0m \u001b[0mself\u001b[0m\u001b[0;34m.\u001b[0m\u001b[0mdirectors\u001b[0m\u001b[0;34m[\u001b[0m\u001b[0;34m:\u001b[0m\u001b[0;34m,\u001b[0m \u001b[0;36m2\u001b[0m\u001b[0;34m,\u001b[0m \u001b[0;34m:\u001b[0m\u001b[0;34m]\u001b[0m\u001b[0;34m\u001b[0m\u001b[0;34m\u001b[0m\u001b[0m\n\u001b[0m\u001b[1;32m     60\u001b[0m \u001b[0;34m\u001b[0m\u001b[0m\n\u001b[1;32m     61\u001b[0m \u001b[0;34m\u001b[0m\u001b[0m\n",
      "\u001b[0;31mAttributeError\u001b[0m: 'cosserat_rod' object has no attribute 'directors'"
     ]
    }
   ],
   "source": [
    "stretch_case = cosserat_rod(2)\n",
    "t_total = 100\n",
    "dt = 3E-4\n",
    "ext_force = np.zeros((3, stretch_case.n_nodes))\n",
    "ext_force[-1, -1] = 15\n",
    "final_pos, position_history = stretch_case.run(ext_force, t_total, dt)\n",
    "\n",
    "time_history = np.arange(0, t_total, dt)\n",
    "plt.plot(time_history, position_history[-1,0,:])\n",
    "plt.figure()\n",
    "plt.plot(time_history, position_history[-1,-1,:])\n",
    "print()\n",
    "print('Average end displacement (m): ', end = '')\n",
    "print(np.mean(position_history[-1,-1,:]-position_history[-1,-1, 0]))\n",
    "print()"
   ]
  },
  {
   "cell_type": "code",
   "execution_count": 21,
   "metadata": {},
   "outputs": [
    {
     "data": {
      "text/plain": [
       "(3, 2, 333334)"
      ]
     },
     "execution_count": 21,
     "metadata": {},
     "output_type": "execute_result"
    }
   ],
   "source": [
    "position_history.shape"
   ]
  },
  {
   "cell_type": "code",
   "execution_count": 36,
   "metadata": {},
   "outputs": [
    {
     "data": {
      "text/plain": [
       "array([0., 0.])"
      ]
     },
     "execution_count": 36,
     "metadata": {},
     "output_type": "execute_result"
    }
   ],
   "source": [
    "position_history[0, :, 0]"
   ]
  },
  {
   "cell_type": "code",
   "execution_count": 38,
   "metadata": {},
   "outputs": [],
   "source": [
    "import pickle as pk\n",
    "filename = \"milestone1.dat\"\n",
    "file = open(filename, \"wb\")\n",
    "pk.dump(position_history, file)\n",
    "file.close()"
   ]
  }
 ],
 "metadata": {
  "interpreter": {
   "hash": "916dbcbb3f70747c44a77c7bcd40155683ae19c65e1c03b4aa3499c5328201f1"
  },
  "kernelspec": {
   "display_name": "Python 3.8.5 64-bit",
   "name": "python3"
  },
  "language_info": {
   "codemirror_mode": {
    "name": "ipython",
    "version": 3
   },
   "file_extension": ".py",
   "mimetype": "text/x-python",
   "name": "python",
   "nbconvert_exporter": "python",
   "pygments_lexer": "ipython3",
   "version": "3.8.5"
  }
 },
 "nbformat": 4,
 "nbformat_minor": 2
}
